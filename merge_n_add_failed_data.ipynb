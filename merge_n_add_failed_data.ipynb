{
 "cells": [
  {
   "cell_type": "code",
   "execution_count": 4,
   "id": "breeding-lebanon",
   "metadata": {
    "ExecuteTime": {
     "end_time": "2021-06-22T18:24:03.501772Z",
     "start_time": "2021-06-22T18:24:03.495315Z"
    }
   },
   "outputs": [],
   "source": [
    "import pickle\n",
    "from pathlib import Path\n",
    "import os\n",
    "import json"
   ]
  },
  {
   "cell_type": "code",
   "execution_count": 5,
   "id": "utility-diana",
   "metadata": {
    "ExecuteTime": {
     "end_time": "2021-06-22T18:24:05.124550Z",
     "start_time": "2021-06-22T18:24:04.931286Z"
    }
   },
   "outputs": [],
   "source": [
    "with open('data.json', 'r') as f:\n",
    "    all_data = json.load(f)\n",
    "#all_data = {}\n",
    "for p in Path('data').glob('*.p'):\n",
    "    with open(p, 'rb') as f:\n",
    "        obj = pickle.load(f)\n",
    "    site_data = {}\n",
    "    for k, v in obj.items():\n",
    "        if isinstance(k, str):\n",
    "            site_data[k] = v\n",
    "        else:\n",
    "            year, month = k\n",
    "            if year not in site_data:\n",
    "                site_data[year] = {}\n",
    "            year_data = site_data[year]\n",
    "            \n",
    "#             year_data = site_data.setdefault(year, {})\n",
    "\n",
    "#             year_data = site_data.get(year, {})\n",
    "#             site_data[year] = year_data\n",
    "            \n",
    "            year_data[str(month)] = dict(sorted(v.items()))\n",
    "    \n",
    "    site_data = dict(sorted(site_data.items()))\n",
    "    file_name = os.path.splitext(os.path.basename(p))[0]\n",
    "    state, city, station = file_name.split('_')\n",
    "    \n",
    "    if state not in all_data:\n",
    "        all_data[state] = {}\n",
    "    state_data = all_data[state]\n",
    "    \n",
    "    if city not in state_data:\n",
    "        state_data[city] = {}\n",
    "    city_data = state_data[city]\n",
    "    \n",
    "    city_data[station] = site_data"
   ]
  },
  {
   "cell_type": "code",
   "execution_count": 8,
   "id": "psychological-madness",
   "metadata": {
    "ExecuteTime": {
     "end_time": "2021-06-22T18:24:46.176898Z",
     "start_time": "2021-06-22T18:24:45.073743Z"
    }
   },
   "outputs": [],
   "source": [
    "with open('data_all.json', 'w') as f:\n",
    "    json.dump(all_data, f)"
   ]
  },
  {
   "cell_type": "code",
   "execution_count": 10,
   "id": "floral-birthday",
   "metadata": {
    "ExecuteTime": {
     "end_time": "2021-06-22T18:25:31.984344Z",
     "start_time": "2021-06-22T18:25:31.888111Z"
    }
   },
   "outputs": [
    {
     "name": "stdout",
     "output_type": "stream",
     "text": [
      "Maharashtra|Mumbai|Bandra, Mumbai - MPCB|2019|10|26\n",
      "Maharashtra|Mumbai|Bandra, Mumbai - MPCB|2019|10|27\n",
      "Maharashtra|Mumbai|Bandra, Mumbai - MPCB|2019|11|14\n",
      "Maharashtra|Mumbai|Bandra, Mumbai - MPCB|2019|11|15\n",
      "Maharashtra|Nashik|Gangapur Road, Nashik - MPCB|2018|11|6\n",
      "Maharashtra|Chandrapur|Chandrapur, Chandrapur - MPCB|2019|5|26\n",
      "Maharashtra|Chandrapur|Chandrapur, Chandrapur - MPCB|2019|5|27\n",
      "Maharashtra|Chandrapur|MIDC Khutala, Chandrapur - MPCB|2018|6|28\n",
      "Delhi|Delhi|IHBAS, Dilshad Garden, Delhi - CPCB|2018|12|29\n",
      "Delhi|Delhi|IHBAS, Dilshad Garden, Delhi - CPCB|2018|12|30\n",
      "Delhi|Delhi|Punjabi Bagh, Delhi - DPCC|2018|1|18\n",
      "Delhi|Delhi|Punjabi Bagh, Delhi - DPCC|2018|1|19\n",
      "Delhi|Delhi|R K Puram, Delhi - DPCC|2019|11|18\n",
      "Delhi|Delhi|R K Puram, Delhi - DPCC|2019|11|19\n",
      "Delhi|Delhi|Nehru Nagar, Delhi - DPCC|2018|11|13\n",
      "Delhi|Delhi|Nehru Nagar, Delhi - DPCC|2018|11|14\n",
      "Delhi|Delhi|Nehru Nagar, Delhi - DPCC|2018|11|15\n",
      "Delhi|Delhi|Ashok Vihar, Delhi - DPCC|2018|2|12\n",
      "Delhi|Delhi|Ashok Vihar, Delhi - DPCC|2018|2|13\n",
      "Delhi|Delhi|North Campus, DU, Delhi - IMD|2018|12|16\n",
      "Rajasthan|Bhiwadi|RIICO Ind. Area III, Bhiwadi - RSPCB|2018|12|24\n",
      "Rajasthan|Bhiwadi|RIICO Ind. Area III, Bhiwadi - RSPCB|2018|12|25\n",
      "Rajasthan|Bhiwadi|RIICO Ind. Area III, Bhiwadi - RSPCB|2019|12|26\n",
      "Rajasthan|Udaipur|Ashok Nagar, Udaipur - RSPCB|2019|2|11\n",
      "Rajasthan|Udaipur|Ashok Nagar, Udaipur - RSPCB|2019|3|4\n",
      "Rajasthan|Udaipur|Ashok Nagar, Udaipur - RSPCB|2019|3|5\n",
      "Rajasthan|Ajmer|Civil Lines, Ajmer - RSPCB|2018|6|14\n",
      "Rajasthan|Ajmer|Civil Lines, Ajmer - RSPCB|2018|6|15\n",
      "Rajasthan|Jodhpur|Collectorate, Jodhpur - RSPCB|2019|9|7\n",
      "Andhra Pradesh|Vijayawada|PWD Grounds, Vijayawada - APPCB|2018|11|18\n",
      "Andhra Pradesh|Vijayawada|PWD Grounds, Vijayawada - APPCB|2018|11|19\n",
      "Andhra Pradesh|Vijayawada|PWD Grounds, Vijayawada - APPCB|2019|10|11\n",
      "Andhra Pradesh|Tirupati|Tirumala, Tirupati - APPCB|2019|6|7\n",
      "Andhra Pradesh|Tirupati|Tirumala, Tirupati - APPCB|2019|6|8\n",
      "Madhya Pradesh|Bhopal|T T Nagar, Bhopal - MPPCB|2019|12|12\n",
      "Madhya Pradesh|Bhopal|T T Nagar, Bhopal - MPPCB|2019|12|13\n",
      "Madhya Pradesh|Singrauli|Vindhyachal STPS, Singrauli - MPPCB|2019|5|4\n",
      "Madhya Pradesh|Singrauli|Vindhyachal STPS, Singrauli - MPPCB|2019|5|5\n",
      "Madhya Pradesh|Dewas|Bhopal Chauraha, Dewas - MPPCB|2019|9|5\n",
      "Madhya Pradesh|Jabalpur|Marhatal, Jabalpur - MPPCB|2019|12|11\n",
      "Madhya Pradesh|Jabalpur|Marhatal, Jabalpur - MPPCB|2019|12|12\n",
      "Madhya Pradesh|Maihar|Sahilara, Maihar - KJS Cements|2019|9|5\n",
      "Uttar Pradesh|Kanpur|Nehru Nagar, Kanpur - UPPCB|2019|12|25\n",
      "Uttar Pradesh|Kanpur|Nehru Nagar, Kanpur - UPPCB|2019|12|26\n",
      "Uttar Pradesh|Ghaziabad|Loni, Ghaziabad - UPPCB|2019|4|8\n",
      "Uttar Pradesh|Ghaziabad|Vasundhara, Ghaziabad - UPPCB|2018|11|1\n",
      "Uttar Pradesh|Ghaziabad|Vasundhara, Ghaziabad - UPPCB|2018|11|2\n",
      "Uttar Pradesh|Baghpat|New Collectorate, Baghpat - UPPCB|2019|7|28\n",
      "Telangana|Hyderabad|ICRISAT Patancheru, Hyderabad - TSPCB|2019|6|15\n",
      "Telangana|Hyderabad|ICRISAT Patancheru, Hyderabad - TSPCB|2019|6|16\n",
      "Karnataka|Bengaluru|Silk Board, Bengaluru - KSPCB|2018|9|15\n",
      "Karnataka|Bengaluru|Silk Board, Bengaluru - KSPCB|2018|9|16\n",
      "Gujarat|Ahmedabad|Maninagar, Ahmedabad - GPCB|2018|2|27\n",
      "Gujarat|Ahmedabad|Maninagar, Ahmedabad - GPCB|2018|2|28\n",
      "Gujarat|Gandhinagar|Sector-10, Gandhinagar - GPCB|2019|10|29\n",
      "Gujarat|Gandhinagar|Sector-10, Gandhinagar - GPCB|2019|10|30\n",
      "Haryana|Gurugram|Vikas Sadan, Gurugram - HSPCB|2018|3|7\n",
      "Haryana|Gurugram|Vikas Sadan, Gurugram - HSPCB|2018|3|8\n",
      "Haryana|Bhiwani|H.B. Colony, Bhiwani - HSPCB|2019|5|6\n",
      "Haryana|Fatehabad|Huda Sector, Fatehabad - HSPCB|2019|6|21\n",
      "Haryana|Fatehabad|Huda Sector, Fatehabad - HSPCB|2019|6|22\n",
      "Haryana|Faridabad|Sector- 16A, Faridabad - HSPCB|2018|6|8\n",
      "Haryana|Faridabad|Sector- 16A, Faridabad - HSPCB|2018|6|9\n",
      "Haryana|Mandikhera|General Hospital, Mandikhera - HSPCB|2019|5|25\n",
      "Haryana|Sirsa|F-Block, Sirsa - HSPCB|2019|6|20\n",
      "Haryana|Sirsa|F-Block, Sirsa - HSPCB|2019|6|21\n",
      "Haryana|Palwal|Shyam Nagar, Palwal - HSPCB|2019|8|4\n",
      "Haryana|Palwal|Shyam Nagar, Palwal - HSPCB|2019|8|5\n",
      "Haryana|Palwal|Shyam Nagar, Palwal - HSPCB|2019|8|6\n",
      "Haryana|Palwal|Shyam Nagar, Palwal - HSPCB|2019|8|7\n",
      "Haryana|Palwal|Shyam Nagar, Palwal - HSPCB|2019|8|8\n",
      "Haryana|Palwal|Shyam Nagar, Palwal - HSPCB|2019|8|9\n",
      "Punjab|Patiala|Model Town, Patiala - PPCB|2019|1|2\n",
      "Punjab|Patiala|Model Town, Patiala - PPCB|2019|1|9\n",
      "Punjab|Mandi Gobindgarh|RIMT University, Mandi Gobindgarh - PPCB|2019|7|21\n",
      "Punjab|Mandi Gobindgarh|RIMT University, Mandi Gobindgarh - PPCB|2019|7|22\n",
      "Punjab|Jalandhar|Civil Line, Jalandhar - PPCB|2018|2|11\n",
      "Punjab|Jalandhar|Civil Line, Jalandhar - PPCB|2018|2|12\n",
      "West Bengal|Howrah|Belur Math, Howrah - WBPCB|2019|11|29\n",
      "West Bengal|Howrah|Belur Math, Howrah - WBPCB|2019|11|30\n",
      "Odisha|Brajrajnagar|GM Office, Brajrajnagar - OSPCB|2018|4|16\n",
      "Odisha|Brajrajnagar|GM Office, Brajrajnagar - OSPCB|2018|4|17\n"
     ]
    }
   ],
   "source": [
    "for state in all_data:\n",
    "    state_data = all_data[state]\n",
    "    for city in state_data:\n",
    "        city_data = state_data[city]\n",
    "        for station in city_data:\n",
    "            for year, year_data in city_data[station].items():\n",
    "                if year == 'done':\n",
    "                    continue\n",
    "                for month, month_data in year_data.items():\n",
    "                    if month == 'done':\n",
    "                        continue\n",
    "                    for day, day_data in month_data.items():\n",
    "                        if day == 'done' or len(day_data) == 0:\n",
    "                            continue\n",
    "                        try:\n",
    "                            float(day_data['min_PM25'])\n",
    "                        except ValueError:\n",
    "                            print('|'.join([state, city, station, year, month, day]))"
   ]
  },
  {
   "cell_type": "code",
   "execution_count": 100,
   "id": "limited-level",
   "metadata": {
    "ExecuteTime": {
     "end_time": "2021-06-22T22:57:03.575843Z",
     "start_time": "2021-06-22T22:57:03.570049Z"
    }
   },
   "outputs": [
    {
     "data": {
      "text/plain": [
       "'1'"
      ]
     },
     "execution_count": 100,
     "metadata": {},
     "output_type": "execute_result"
    }
   ],
   "source": [
    "failed_data[0]['min_PM25']"
   ]
  },
  {
   "cell_type": "code",
   "execution_count": 91,
   "id": "7060ac64",
   "metadata": {
    "ExecuteTime": {
     "end_time": "2021-06-22T22:49:28.657354Z",
     "start_time": "2021-06-22T22:49:28.507928Z"
    }
   },
   "outputs": [],
   "source": [
    "with open('data_all.json', 'r') as f:\n",
    "    all_data = json.load(f)\n",
    "    \n",
    "with open(\"failed.txt\", \"r\") as f:\n",
    "    lines = f.readlines()\n",
    "    \n",
    "with open('failed_data.json','r') as f:\n",
    "    failed_data = json.load(f)\n",
    "    \n",
    "for line, failed_day_data in zip(lines, failed_data):\n",
    "    state, city, station, year, month, day = line[:-1].split('|')\n",
    "    all_data[state][city][station][year][month][day] = failed_day_data\n",
    "    "
   ]
  },
  {
   "cell_type": "code",
   "execution_count": 105,
   "id": "3b5d7e13",
   "metadata": {
    "ExecuteTime": {
     "end_time": "2021-06-22T22:59:17.519562Z",
     "start_time": "2021-06-22T22:59:17.379384Z"
    }
   },
   "outputs": [],
   "source": [
    "# for loop over all_data\n",
    "# append each entry to a list of rows\n",
    "all_data_list = []\n",
    "for state in all_data:\n",
    "    state_data = all_data[state]\n",
    "    for city in state_data:\n",
    "        city_data = state_data[city]\n",
    "        for station in city_data:\n",
    "            for year, year_data in city_data[station].items():\n",
    "                if year == 'done':\n",
    "                    continue\n",
    "                for month, month_data in year_data.items():\n",
    "                    if month == 'done':\n",
    "                        continue\n",
    "                    for day, day_data in month_data.items():\n",
    "                        if day == 'done' or len(day_data) == 0:\n",
    "                            continue\n",
    "                        all_data_list.append([state, city, station, year, month, day, day_data['min_PM25'], day_data['max_PM25'], day_data['avg_PM25']])\n",
    "                        "
   ]
  },
  {
   "cell_type": "code",
   "execution_count": 109,
   "id": "47207d0f",
   "metadata": {
    "ExecuteTime": {
     "end_time": "2021-06-22T23:01:39.732690Z",
     "start_time": "2021-06-22T23:01:39.253235Z"
    }
   },
   "outputs": [],
   "source": [
    "import pandas as pd\n",
    "df = pd.DataFrame(all_data_list, columns = ['state','city','station','year','month','day','min PM25','max PM25', 'avg PM25'])\n",
    "df.to_csv('all_data.csv')"
   ]
  },
  {
   "cell_type": "code",
   "execution_count": null,
   "id": "fd1de7f8",
   "metadata": {},
   "outputs": [],
   "source": []
  }
 ],
 "metadata": {
  "kernelspec": {
   "display_name": "Python 3",
   "language": "python",
   "name": "python3"
  },
  "language_info": {
   "codemirror_mode": {
    "name": "ipython",
    "version": 3
   },
   "file_extension": ".py",
   "mimetype": "text/x-python",
   "name": "python",
   "nbconvert_exporter": "python",
   "pygments_lexer": "ipython3",
   "version": "3.7.4"
  },
  "toc": {
   "base_numbering": 1,
   "nav_menu": {},
   "number_sections": true,
   "sideBar": true,
   "skip_h1_title": false,
   "title_cell": "Table of Contents",
   "title_sidebar": "Contents",
   "toc_cell": false,
   "toc_position": {},
   "toc_section_display": true,
   "toc_window_display": false
  }
 },
 "nbformat": 4,
 "nbformat_minor": 5
}
